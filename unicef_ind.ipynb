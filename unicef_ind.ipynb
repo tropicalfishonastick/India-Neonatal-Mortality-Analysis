{
 "cells": [
  {
   "cell_type": "code",
   "execution_count": 34,
   "metadata": {},
   "outputs": [
    {
     "ename": "ImportError",
     "evalue": "cannot import name 'read_unicef_data' from 'data_reader' (c:\\Users\\Ayushi Tripathi\\Downloads\\stats_ind_project_env\\data_reader.py)",
     "output_type": "error",
     "traceback": [
      "\u001b[1;31m---------------------------------------------------------------------------\u001b[0m",
      "\u001b[1;31mImportError\u001b[0m                               Traceback (most recent call last)",
      "\u001b[1;32mc:\\Users\\Ayushi Tripathi\\Downloads\\stats_ind_project_env\\unicef_ind.ipynb Cell 1\u001b[0m line \u001b[0;36m2\n\u001b[0;32m      <a href='vscode-notebook-cell:/c%3A/Users/Ayushi%20Tripathi/Downloads/stats_ind_project_env/unicef_ind.ipynb#W0sZmlsZQ%3D%3D?line=0'>1</a>\u001b[0m \u001b[39m# Import the function from data_reader.py using an absolute import\u001b[39;00m\n\u001b[1;32m----> <a href='vscode-notebook-cell:/c%3A/Users/Ayushi%20Tripathi/Downloads/stats_ind_project_env/unicef_ind.ipynb#W0sZmlsZQ%3D%3D?line=1'>2</a>\u001b[0m \u001b[39mfrom\u001b[39;00m \u001b[39mdata_reader\u001b[39;00m \u001b[39mimport\u001b[39;00m read_unicef_data\n\u001b[0;32m      <a href='vscode-notebook-cell:/c%3A/Users/Ayushi%20Tripathi/Downloads/stats_ind_project_env/unicef_ind.ipynb#W0sZmlsZQ%3D%3D?line=3'>4</a>\u001b[0m \u001b[39m# Specify the path to the CSV file\u001b[39;00m\n\u001b[0;32m      <a href='vscode-notebook-cell:/c%3A/Users/Ayushi%20Tripathi/Downloads/stats_ind_project_env/unicef_ind.ipynb#W0sZmlsZQ%3D%3D?line=4'>5</a>\u001b[0m file_path \u001b[39m=\u001b[39m \u001b[39m'\u001b[39m\u001b[39mUNICEF_IND.csv\u001b[39m\u001b[39m'\u001b[39m\n",
      "\u001b[1;31mImportError\u001b[0m: cannot import name 'read_unicef_data' from 'data_reader' (c:\\Users\\Ayushi Tripathi\\Downloads\\stats_ind_project_env\\data_reader.py)"
     ]
    }
   ],
   "source": [
    "# Import the read_csv function from data_reader.py\n",
    "from data_reader import read_csv\n",
    "\n",
    "# Define the path to your CSV file\n",
    "csv_file = 'UNICEF_IND.csv'  # Change this to your CSV file path\n",
    "\n",
    "# Call the read_csv function to read the data into the 'df' DataFrame\n",
    "df = read_csv(csv_file)\n",
    "\n",
    "# Now, you can work with the 'df' DataFrame in this Jupyter Notebook.\n",
    "# For example, you can display the first few rows of the DataFrame:\n",
    "df.head()\n"
   ]
  }
 ],
 "metadata": {
  "kernelspec": {
   "display_name": "stats_ind_project_env",
   "language": "python",
   "name": "python3"
  },
  "language_info": {
   "codemirror_mode": {
    "name": "ipython",
    "version": 3
   },
   "file_extension": ".py",
   "mimetype": "text/x-python",
   "name": "python",
   "nbconvert_exporter": "python",
   "pygments_lexer": "ipython3",
   "version": "3.11.5"
  },
  "orig_nbformat": 4
 },
 "nbformat": 4,
 "nbformat_minor": 2
}
